{
 "cells": [
  {
   "cell_type": "markdown",
   "metadata": {},
   "source": [
    "# BERT-Based Sentiment Analysis on IMDB Dataset\n",
    "## Fine-Tuning Pre-trained Models for Text Classification\n",
    "**Author:** Marco Gonzalez\n",
    "\n",
    "## Overview\n",
    "\n",
    "This notebook demonstrates fine-tuning a pre-trained BERT model for sentiment analysis on the IMDB movie review dataset. The implementation covers text preprocessing, model training, evaluation, and prediction phases using the Transformers library.\n",
    "\n",
    "**Key Components:**\n",
    "- Text preprocessing with BERT tokenizer\n",
    "- Fine-tuning pre-trained BERT model\n",
    "- Model evaluation with comprehensive metrics\n",
    "- Sentiment prediction on sample reviews\n"
   ]
  },
  {
   "cell_type": "markdown",
   "metadata": {},
   "source": [
    "## Installation Instructions\n",
    "\n",
    "Before running this notebook, install the required dependencies:\n",
    "\n",
    "```bash\n",
    "pip install -r requirements.txt\n",
    "```\n",
    "\n",
    "**Note:** If you encounter Keras compatibility issues, run:\n",
    "```bash\n",
    "pip install tf-keras\n",
    "```\n",
    "\n",
    "**Required packages:** transformers, torch, datasets, scikit-learn, pandas, numpy\n"
   ]
  },
  {
   "cell_type": "code",
   "execution_count": 1,
   "metadata": {},
   "outputs": [
    {
     "name": "stderr",
     "output_type": "stream",
     "text": [
      "2025-09-22 15:25:11.124938: I tensorflow/core/util/port.cc:153] oneDNN custom operations are on. You may see slightly different numerical results due to floating-point round-off errors from different computation orders. To turn them off, set the environment variable `TF_ENABLE_ONEDNN_OPTS=0`.\n",
      "2025-09-22 15:25:11.164488: I tensorflow/core/platform/cpu_feature_guard.cc:210] This TensorFlow binary is optimized to use available CPU instructions in performance-critical operations.\n",
      "To enable the following instructions: AVX2 AVX512F AVX512_VNNI AVX512_BF16 FMA, in other operations, rebuild TensorFlow with the appropriate compiler flags.\n",
      "2025-09-22 15:25:12.100814: I tensorflow/core/util/port.cc:153] oneDNN custom operations are on. You may see slightly different numerical results due to floating-point round-off errors from different computation orders. To turn them off, set the environment variable `TF_ENABLE_ONEDNN_OPTS=0`.\n"
     ]
    },
    {
     "name": "stdout",
     "output_type": "stream",
     "text": [
      "BERT Sentiment Analysis: IMDB Movie Reviews\n",
      "==================================================\n",
      "Libraries imported successfully\n",
      "PyTorch version: 2.8.0+cu128\n",
      "CUDA available: False\n"
     ]
    }
   ],
   "source": [
    "# Import required libraries\n",
    "import pandas as pd\n",
    "import numpy as np\n",
    "import matplotlib.pyplot as plt\n",
    "import seaborn as sns\n",
    "from sklearn.model_selection import train_test_split\n",
    "from sklearn.metrics import accuracy_score, precision_recall_fscore_support, confusion_matrix\n",
    "import torch\n",
    "from torch.utils.data import Dataset, DataLoader\n",
    "from transformers import (\n",
    "    BertTokenizer, BertForSequenceClassification,\n",
    "    TrainingArguments, Trainer\n",
    ")\n",
    "from tqdm import tqdm\n",
    "import warnings\n",
    "warnings.filterwarnings('ignore')\n",
    "\n",
    "# Set random seeds for reproducibility\n",
    "torch.manual_seed(42)\n",
    "np.random.seed(42)\n",
    "\n",
    "print(\"BERT Sentiment Analysis: IMDB Movie Reviews\")\n",
    "print(\"=\" * 50)\n",
    "print(\"Libraries imported successfully\")\n",
    "print(f\"PyTorch version: {torch.__version__}\")\n",
    "print(f\"CUDA available: {torch.cuda.is_available()}\")\n"
   ]
  },
  {
   "cell_type": "code",
   "execution_count": 2,
   "metadata": {},
   "outputs": [
    {
     "name": "stdout",
     "output_type": "stream",
     "text": [
      "Loading IMDB dataset...\n",
      "Dataset shape: (50000, 2)\n",
      "Columns: ['review', 'sentiment']\n",
      "\n",
      "Dataset Overview:\n",
      "Total reviews: 50,000\n",
      "Sentiment distribution:\n",
      "sentiment\n",
      "positive    25000\n",
      "negative    25000\n",
      "Name: count, dtype: int64\n",
      "\n",
      "Sample Reviews:\n",
      "\n",
      "1. Sentiment: positive\n",
      "Review: One of the other reviewers has mentioned that after watching just 1 Oz episode you'll be hooked. They are right, as this is exactly what happened with me.<br /><br />The first thing that struck me abo...\n",
      "\n",
      "2. Sentiment: positive\n",
      "Review: A wonderful little production. <br /><br />The filming technique is very unassuming- very old-time-BBC fashion and gives a comforting, and sometimes discomforting, sense of realism to the entire piece...\n",
      "\n",
      "Review Length Statistics:\n",
      "Average length: 1309.4 characters\n",
      "Median length: 970.0 characters\n",
      "Max length: 13704 characters\n"
     ]
    }
   ],
   "source": [
    "# Load the IMDB dataset\n",
    "print(\"Loading IMDB dataset...\")\n",
    "df = pd.read_csv('IMDB Dataset.csv')\n",
    "\n",
    "print(f\"Dataset shape: {df.shape}\")\n",
    "print(f\"Columns: {df.columns.tolist()}\")\n",
    "\n",
    "# Display basic information\n",
    "print(\"\\nDataset Overview:\")\n",
    "print(f\"Total reviews: {len(df):,}\")\n",
    "print(f\"Sentiment distribution:\")\n",
    "print(df['sentiment'].value_counts())\n",
    "\n",
    "# Display sample reviews\n",
    "print(\"\\nSample Reviews:\")\n",
    "for i in range(2):\n",
    "    review = df.iloc[i]['review'][:200] + \"...\"\n",
    "    sentiment = df.iloc[i]['sentiment']\n",
    "    print(f\"\\n{i+1}. Sentiment: {sentiment}\")\n",
    "    print(f\"Review: {review}\")\n",
    "\n",
    "# Review length statistics\n",
    "df['review_length'] = df['review'].str.len()\n",
    "print(\"\\nReview Length Statistics:\")\n",
    "print(f\"Average length: {df['review_length'].mean():.1f} characters\")\n",
    "print(f\"Median length: {df['review_length'].median():.1f} characters\")\n",
    "print(f\"Max length: {df['review_length'].max()} characters\")\n"
   ]
  },
  {
   "cell_type": "markdown",
   "metadata": {},
   "source": [
    "## Text Preprocessing with BERT Tokenizer\n",
    "\n",
    "BERT requires specific tokenization and input formatting. We'll use the pre-trained BERT tokenizer to convert text into tokens suitable for the model.\n"
   ]
  },
  {
   "cell_type": "code",
   "execution_count": 19,
   "metadata": {},
   "outputs": [
    {
     "name": "stdout",
     "output_type": "stream",
     "text": [
      "Vocabulary size: 30522\n",
      "\n",
      "Sample tokenization:\n",
      "Original: One of the other reviewers has mentioned that after watching just 1 Oz episode you'll be hooked. The\n",
      "Tokens: ['one', 'of', 'the', 'other', 'reviewers', 'has', 'mentioned', 'that', 'after', 'watching']...\n",
      "Number of tokens: 21\n",
      "Custom dataset class created successfully\n"
     ]
    }
   ],
   "source": [
    "# Initialize BERT tokenizer\n",
    "tokenizer = BertTokenizer.from_pretrained('bert-base-uncased')\n",
    "\n",
    "# Convert sentiment labels to numerical values\n",
    "label_map = {'negative': 0, 'positive': 1}\n",
    "df['label'] = df['sentiment'].map(label_map)\n",
    "\n",
    "print(f\"Vocabulary size: {tokenizer.vocab_size}\")\n",
    "\n",
    "# Sample tokenization demonstration\n",
    "sample_text = df.iloc[0]['review'][:100]\n",
    "tokens = tokenizer.tokenize(sample_text)\n",
    "print(f\"\\nSample tokenization:\")\n",
    "print(f\"Original: {sample_text}\")\n",
    "print(f\"Tokens: {tokens[:10]}...\")\n",
    "print(f\"Number of tokens: {len(tokens)}\")\n",
    "\n",
    "# Create custom dataset class for BERT\n",
    "class IMDBDataset(Dataset):\n",
    "    def __init__(self, reviews, labels, tokenizer, max_length=512):\n",
    "        self.reviews = reviews\n",
    "        self.labels = labels\n",
    "        self.tokenizer = tokenizer\n",
    "        self.max_length = max_length\n",
    "\n",
    "    def __len__(self):\n",
    "        return len(self.reviews)\n",
    "\n",
    "    def __getitem__(self, idx):\n",
    "        review = str(self.reviews[idx])\n",
    "        label = self.labels[idx]\n",
    "\n",
    "        # Tokenize and encode the review\n",
    "        encoding = self.tokenizer(\n",
    "            review,\n",
    "            truncation=True,\n",
    "            padding='max_length',\n",
    "            max_length=self.max_length,\n",
    "            return_tensors='pt'\n",
    "        )\n",
    "\n",
    "        return {\n",
    "            'input_ids': encoding['input_ids'].flatten(),\n",
    "            'attention_mask': encoding['attention_mask'].flatten(),\n",
    "            'labels': torch.tensor(label, dtype=torch.long)\n",
    "        }\n",
    "\n",
    "print(\"Custom dataset class created successfully\")\n"
   ]
  },
  {
   "cell_type": "code",
   "execution_count": 4,
   "metadata": {},
   "outputs": [
    {
     "name": "stdout",
     "output_type": "stream",
     "text": [
      "Dataset split completed:\n",
      "Training samples: 4000\n",
      "Testing samples: 1000\n",
      "\n",
      "Dataset objects created with max_length=256\n",
      "Training dataset size: 4000\n",
      "Test dataset size: 1000\n"
     ]
    }
   ],
   "source": [
    "# Use a subset for faster training (adjust size as needed)\n",
    "SAMPLE_SIZE = 5000  # Reduce for faster training\n",
    "df_sample = df.sample(n=SAMPLE_SIZE, random_state=42).reset_index(drop=True)\n",
    "\n",
    "# Split the dataset\n",
    "train_texts, test_texts, train_labels, test_labels = train_test_split(\n",
    "    df_sample['review'].tolist(),\n",
    "    df_sample['label'].tolist(),\n",
    "    test_size=0.2,\n",
    "    random_state=42,\n",
    "    stratify=df_sample['label']\n",
    ")\n",
    "\n",
    "print(f\"Dataset split completed:\")\n",
    "print(f\"Training samples: {len(train_texts)}\")\n",
    "print(f\"Testing samples: {len(test_texts)}\")\n",
    "\n",
    "# Create dataset objects\n",
    "MAX_LENGTH = 256  # Reduced for faster training\n",
    "train_dataset = IMDBDataset(train_texts, train_labels, tokenizer, MAX_LENGTH)\n",
    "test_dataset = IMDBDataset(test_texts, test_labels, tokenizer, MAX_LENGTH)\n",
    "\n",
    "print(f\"\\nDataset objects created with max_length={MAX_LENGTH}\")\n",
    "print(f\"Training dataset size: {len(train_dataset)}\")\n",
    "print(f\"Test dataset size: {len(test_dataset)}\")\n"
   ]
  },
  {
   "cell_type": "code",
   "execution_count": 5,
   "metadata": {},
   "outputs": [
    {
     "name": "stdout",
     "output_type": "stream",
     "text": [
      "Loading pre-trained BERT model...\n"
     ]
    },
    {
     "name": "stderr",
     "output_type": "stream",
     "text": [
      "Some weights of BertForSequenceClassification were not initialized from the model checkpoint at bert-base-uncased and are newly initialized: ['classifier.bias', 'classifier.weight']\n",
      "You should probably TRAIN this model on a down-stream task to be able to use it for predictions and inference.\n"
     ]
    },
    {
     "name": "stdout",
     "output_type": "stream",
     "text": [
      "Model loaded successfully\n",
      "Device: cpu\n",
      "Model parameters: 109,483,778\n",
      "Trainable parameters: 109,483,778\n"
     ]
    }
   ],
   "source": [
    "# Load pre-trained BERT model for sequence classification\n",
    "print(\"Loading pre-trained BERT model...\")\n",
    "model = BertForSequenceClassification.from_pretrained(\n",
    "    'bert-base-uncased',\n",
    "    num_labels=2,  # Binary classification (positive/negative)\n",
    "    output_attentions=False,\n",
    "    output_hidden_states=False\n",
    ")\n",
    "\n",
    "# Move model to GPU if available\n",
    "device = torch.device('cuda' if torch.cuda.is_available() else 'cpu')\n",
    "model.to(device)\n",
    "\n",
    "print(f\"Model loaded successfully\")\n",
    "print(f\"Device: {device}\")\n",
    "print(f\"Model parameters: {sum(p.numel() for p in model.parameters()):,}\")\n",
    "print(f\"Trainable parameters: {sum(p.numel() for p in model.parameters() if p.requires_grad):,}\")\n"
   ]
  },
  {
   "cell_type": "markdown",
   "metadata": {
    "vscode": {
     "languageId": "plaintext"
    }
   },
   "source": [
    "## Installation Instructions\n",
    "\n",
    "Before running this notebook, install the required dependencies:\n",
    "\n",
    "```bash\n",
    "pip install -r requirements.txt\n",
    "```\n",
    "\n",
    "**Required packages:** transformers, torch, datasets, scikit-learn, pandas, numpy\n"
   ]
  },
  {
   "cell_type": "code",
   "execution_count": 6,
   "metadata": {},
   "outputs": [
    {
     "name": "stdout",
     "output_type": "stream",
     "text": [
      "BERT Sentiment Analysis: IMDB Movie Reviews\n",
      "==================================================\n",
      "Libraries imported successfully\n",
      "PyTorch version: 2.8.0+cu128\n",
      "CUDA available: False\n"
     ]
    }
   ],
   "source": [
    "# Import required libraries\n",
    "import pandas as pd\n",
    "import numpy as np\n",
    "import matplotlib.pyplot as plt\n",
    "import seaborn as sns\n",
    "from sklearn.model_selection import train_test_split\n",
    "from sklearn.metrics import accuracy_score, precision_recall_fscore_support, confusion_matrix\n",
    "import torch\n",
    "from torch.utils.data import Dataset, DataLoader\n",
    "from transformers import (\n",
    "    BertTokenizer, BertForSequenceClassification,\n",
    "    TrainingArguments, Trainer\n",
    ")\n",
    "from tqdm import tqdm\n",
    "import warnings\n",
    "warnings.filterwarnings('ignore')\n",
    "\n",
    "# Set random seeds for reproducibility\n",
    "torch.manual_seed(42)\n",
    "np.random.seed(42)\n",
    "\n",
    "print(\"BERT Sentiment Analysis: IMDB Movie Reviews\")\n",
    "print(\"=\" * 50)\n",
    "print(\"Libraries imported successfully\")\n",
    "print(f\"PyTorch version: {torch.__version__}\")\n",
    "print(f\"CUDA available: {torch.cuda.is_available()}\")\n"
   ]
  },
  {
   "cell_type": "markdown",
   "metadata": {},
   "source": [
    "## Dataset Loading and Exploration\n",
    "\n",
    "The IMDB dataset contains 50,000 movie reviews labeled as positive or negative sentiment.\n"
   ]
  },
  {
   "cell_type": "code",
   "execution_count": 7,
   "metadata": {},
   "outputs": [
    {
     "name": "stdout",
     "output_type": "stream",
     "text": [
      "Trainer initialized successfully\n",
      "Training configuration:\n",
      "- Epochs: 2\n",
      "- Batch size: 16\n",
      "- Learning rate: 5e-05\n"
     ]
    }
   ],
   "source": [
    "# Define training arguments\n",
    "training_args = TrainingArguments(\n",
    "    output_dir='./results',\n",
    "    num_train_epochs=2,  # Reduced for faster training\n",
    "    per_device_train_batch_size=16,\n",
    "    per_device_eval_batch_size=16,\n",
    "    warmup_steps=100,\n",
    "    weight_decay=0.01,\n",
    "    logging_dir='./logs',\n",
    "    logging_steps=100,\n",
    "    eval_strategy='steps',  # Updated parameter name\n",
    "    eval_steps=500,\n",
    "    save_strategy='steps',\n",
    "    save_steps=500,\n",
    "    load_best_model_at_end=True,\n",
    "    metric_for_best_model='eval_loss',\n",
    "    greater_is_better=False\n",
    ")\n",
    "\n",
    "# Define compute metrics function\n",
    "def compute_metrics(eval_pred):\n",
    "    predictions, labels = eval_pred\n",
    "    predictions = np.argmax(predictions, axis=1)\n",
    "\n",
    "    accuracy = accuracy_score(labels, predictions)\n",
    "    precision, recall, f1, _ = precision_recall_fscore_support(labels, predictions, average='weighted')\n",
    "\n",
    "    return {\n",
    "        'accuracy': accuracy,\n",
    "        'precision': precision,\n",
    "        'recall': recall,\n",
    "        'f1': f1\n",
    "    }\n",
    "\n",
    "# Initialize trainer\n",
    "trainer = Trainer(\n",
    "    model=model,\n",
    "    args=training_args,\n",
    "    train_dataset=train_dataset,\n",
    "    eval_dataset=test_dataset,\n",
    "    compute_metrics=compute_metrics\n",
    ")\n",
    "\n",
    "print(\"Trainer initialized successfully\")\n",
    "print(\"Training configuration:\")\n",
    "print(f\"- Epochs: {training_args.num_train_epochs}\")\n",
    "print(f\"- Batch size: {training_args.per_device_train_batch_size}\")\n",
    "print(f\"- Learning rate: {training_args.learning_rate}\")\n"
   ]
  },
  {
   "cell_type": "code",
   "execution_count": 8,
   "metadata": {},
   "outputs": [
    {
     "name": "stdout",
     "output_type": "stream",
     "text": [
      "Loading IMDB dataset...\n",
      "Dataset shape: (50000, 2)\n",
      "Columns: ['review', 'sentiment']\n",
      "\n",
      "Dataset Overview:\n",
      "Total reviews: 50,000\n",
      "Sentiment distribution:\n",
      "sentiment\n",
      "positive    25000\n",
      "negative    25000\n",
      "Name: count, dtype: int64\n",
      "\n",
      "Sample Reviews:\n",
      "\n",
      "1. Sentiment: positive\n",
      "Review: One of the other reviewers has mentioned that after watching just 1 Oz episode you'll be hooked. They are right, as this is exactly what happened with me.<br /><br />The first thing that struck me abo...\n",
      "\n",
      "2. Sentiment: positive\n",
      "Review: A wonderful little production. <br /><br />The filming technique is very unassuming- very old-time-BBC fashion and gives a comforting, and sometimes discomforting, sense of realism to the entire piece...\n",
      "\n",
      "Review Length Statistics:\n",
      "Average length: 1309.4 characters\n",
      "Median length: 970.0 characters\n",
      "Max length: 13704 characters\n"
     ]
    }
   ],
   "source": [
    "# Load the IMDB dataset\n",
    "print(\"Loading IMDB dataset...\")\n",
    "df = pd.read_csv('IMDB Dataset.csv')\n",
    "\n",
    "print(f\"Dataset shape: {df.shape}\")\n",
    "print(f\"Columns: {df.columns.tolist()}\")\n",
    "\n",
    "# Display basic information\n",
    "print(\"\\nDataset Overview:\")\n",
    "print(f\"Total reviews: {len(df):,}\")\n",
    "print(f\"Sentiment distribution:\")\n",
    "print(df['sentiment'].value_counts())\n",
    "\n",
    "# Display sample reviews\n",
    "print(\"\\nSample Reviews:\")\n",
    "for i in range(2):\n",
    "    review = df.iloc[i]['review'][:200] + \"...\"\n",
    "    sentiment = df.iloc[i]['sentiment']\n",
    "    print(f\"\\n{i+1}. Sentiment: {sentiment}\")\n",
    "    print(f\"Review: {review}\")\n",
    "\n",
    "# Review length statistics\n",
    "df['review_length'] = df['review'].str.len()\n",
    "print(\"\\nReview Length Statistics:\")\n",
    "print(f\"Average length: {df['review_length'].mean():.1f} characters\")\n",
    "print(f\"Median length: {df['review_length'].median():.1f} characters\")\n",
    "print(f\"Max length: {df['review_length'].max()} characters\")\n"
   ]
  },
  {
   "cell_type": "markdown",
   "metadata": {},
   "source": [
    "## Text Preprocessing with BERT Tokenizer\n",
    "\n",
    "BERT requires specific tokenization and input formatting. We'll use the pre-trained BERT tokenizer to convert text into tokens suitable for the model.\n"
   ]
  },
  {
   "cell_type": "code",
   "execution_count": 9,
   "metadata": {},
   "outputs": [
    {
     "name": "stdout",
     "output_type": "stream",
     "text": [
      "Initializing BERT tokenizer...\n",
      "Tokenizer loaded successfully\n",
      "Vocabulary size: 30522\n",
      "\n",
      "Sample tokenization:\n",
      "Original: One of the other reviewers has mentioned that after watching just 1 Oz episode you'll be hooked. The\n",
      "Tokens: ['one', 'of', 'the', 'other', 'reviewers', 'has', 'mentioned', 'that', 'after', 'watching']...\n",
      "Number of tokens: 21\n",
      "Custom dataset class created successfully\n"
     ]
    }
   ],
   "source": [
    "# Initialize BERT tokenizer\n",
    "print(\"Initializing BERT tokenizer...\")\n",
    "tokenizer = BertTokenizer.from_pretrained('bert-base-uncased')\n",
    "\n",
    "# Convert sentiment labels to numerical values\n",
    "label_map = {'negative': 0, 'positive': 1}\n",
    "df['label'] = df['sentiment'].map(label_map)\n",
    "\n",
    "print(\"Tokenizer loaded successfully\")\n",
    "print(f\"Vocabulary size: {tokenizer.vocab_size}\")\n",
    "\n",
    "# Sample tokenization demonstration\n",
    "sample_text = df.iloc[0]['review'][:100]\n",
    "tokens = tokenizer.tokenize(sample_text)\n",
    "print(f\"\\nSample tokenization:\")\n",
    "print(f\"Original: {sample_text}\")\n",
    "print(f\"Tokens: {tokens[:10]}...\")\n",
    "print(f\"Number of tokens: {len(tokens)}\")\n",
    "\n",
    "# Create custom dataset class for BERT\n",
    "class IMDBDataset(Dataset):\n",
    "    def __init__(self, reviews, labels, tokenizer, max_length=512):\n",
    "        self.reviews = reviews\n",
    "        self.labels = labels\n",
    "        self.tokenizer = tokenizer\n",
    "        self.max_length = max_length\n",
    "    \n",
    "    def __len__(self):\n",
    "        return len(self.reviews)\n",
    "    \n",
    "    def __getitem__(self, idx):\n",
    "        review = str(self.reviews[idx])\n",
    "        label = self.labels[idx]\n",
    "        \n",
    "        # Tokenize and encode the review\n",
    "        encoding = self.tokenizer(\n",
    "            review,\n",
    "            truncation=True,\n",
    "            padding='max_length',\n",
    "            max_length=self.max_length,\n",
    "            return_tensors='pt'\n",
    "        )\n",
    "        \n",
    "        return {\n",
    "            'input_ids': encoding['input_ids'].flatten(),\n",
    "            'attention_mask': encoding['attention_mask'].flatten(),\n",
    "            'labels': torch.tensor(label, dtype=torch.long)\n",
    "        }\n",
    "\n",
    "print(\"Custom dataset class created successfully\")\n"
   ]
  },
  {
   "cell_type": "code",
   "execution_count": 10,
   "metadata": {},
   "outputs": [
    {
     "name": "stdout",
     "output_type": "stream",
     "text": [
      "Dataset split completed:\n",
      "Training samples: 4000\n",
      "Testing samples: 1000\n",
      "\n",
      "Dataset objects created with max_length=256\n",
      "Training dataset size: 4000\n",
      "Test dataset size: 1000\n"
     ]
    }
   ],
   "source": [
    "# Use a subset for faster training (adjust size as needed)\n",
    "SAMPLE_SIZE = 5000  # Reduce for faster training\n",
    "df_sample = df.sample(n=SAMPLE_SIZE, random_state=42).reset_index(drop=True)\n",
    "\n",
    "# Split the dataset\n",
    "train_texts, test_texts, train_labels, test_labels = train_test_split(\n",
    "    df_sample['review'].tolist(),\n",
    "    df_sample['label'].tolist(),\n",
    "    test_size=0.2,\n",
    "    random_state=42,\n",
    "    stratify=df_sample['label']\n",
    ")\n",
    "\n",
    "print(f\"Dataset split completed:\")\n",
    "print(f\"Training samples: {len(train_texts)}\")\n",
    "print(f\"Testing samples: {len(test_texts)}\")\n",
    "\n",
    "# Create dataset objects\n",
    "MAX_LENGTH = 256  # Reduced for faster training\n",
    "train_dataset = IMDBDataset(train_texts, train_labels, tokenizer, MAX_LENGTH)\n",
    "test_dataset = IMDBDataset(test_texts, test_labels, tokenizer, MAX_LENGTH)\n",
    "\n",
    "print(f\"\\nDataset objects created with max_length={MAX_LENGTH}\")\n",
    "print(f\"Training dataset size: {len(train_dataset)}\")\n",
    "print(f\"Test dataset size: {len(test_dataset)}\")\n"
   ]
  },
  {
   "cell_type": "code",
   "execution_count": 11,
   "metadata": {},
   "outputs": [
    {
     "name": "stdout",
     "output_type": "stream",
     "text": [
      "Loading pre-trained BERT model...\n"
     ]
    },
    {
     "name": "stderr",
     "output_type": "stream",
     "text": [
      "Some weights of BertForSequenceClassification were not initialized from the model checkpoint at bert-base-uncased and are newly initialized: ['classifier.bias', 'classifier.weight']\n",
      "You should probably TRAIN this model on a down-stream task to be able to use it for predictions and inference.\n"
     ]
    },
    {
     "name": "stdout",
     "output_type": "stream",
     "text": [
      "Model loaded successfully\n",
      "Device: cpu\n",
      "Model parameters: 109,483,778\n",
      "Trainable parameters: 109,483,778\n"
     ]
    }
   ],
   "source": [
    "# Load pre-trained BERT model for sequence classification\n",
    "print(\"Loading pre-trained BERT model...\")\n",
    "model = BertForSequenceClassification.from_pretrained(\n",
    "    'bert-base-uncased',\n",
    "    num_labels=2,  # Binary classification (positive/negative)\n",
    "    output_attentions=False,\n",
    "    output_hidden_states=False\n",
    ")\n",
    "\n",
    "# Move model to GPU if available\n",
    "device = torch.device('cuda' if torch.cuda.is_available() else 'cpu')\n",
    "model.to(device)\n",
    "\n",
    "print(f\"Model loaded successfully\")\n",
    "print(f\"Device: {device}\")\n",
    "print(f\"Model parameters: {sum(p.numel() for p in model.parameters()):,}\")\n",
    "print(f\"Trainable parameters: {sum(p.numel() for p in model.parameters() if p.requires_grad):,}\")\n"
   ]
  },
  {
   "cell_type": "code",
   "execution_count": 13,
   "metadata": {},
   "outputs": [
    {
     "name": "stdout",
     "output_type": "stream",
     "text": [
      "Trainer initialized successfully\n",
      "Training configuration:\n",
      "- Epochs: 2\n",
      "- Batch size: 16\n",
      "- Learning rate: 5e-05\n"
     ]
    }
   ],
   "source": [
    "# Define training arguments\n",
    "training_args = TrainingArguments(\n",
    "    output_dir='./results',\n",
    "    num_train_epochs=2,  # Reduced for faster training\n",
    "    per_device_train_batch_size=16,\n",
    "    per_device_eval_batch_size=16,\n",
    "    warmup_steps=100,\n",
    "    weight_decay=0.01,\n",
    "    logging_dir='./logs',\n",
    "    logging_steps=100,\n",
    "    eval_strategy='steps',\n",
    "    eval_steps=500,\n",
    "    save_strategy='steps',\n",
    "    save_steps=500,\n",
    "    load_best_model_at_end=True,\n",
    "    metric_for_best_model='eval_loss',\n",
    "    greater_is_better=False\n",
    ")\n",
    "\n",
    "# Define compute metrics function\n",
    "def compute_metrics(eval_pred):\n",
    "    predictions, labels = eval_pred\n",
    "    predictions = np.argmax(predictions, axis=1)\n",
    "    \n",
    "    accuracy = accuracy_score(labels, predictions)\n",
    "    precision, recall, f1, _ = precision_recall_fscore_support(labels, predictions, average='weighted')\n",
    "    \n",
    "    return {\n",
    "        'accuracy': accuracy,\n",
    "        'precision': precision,\n",
    "        'recall': recall,\n",
    "        'f1': f1\n",
    "    }\n",
    "\n",
    "# Initialize trainer\n",
    "trainer = Trainer(\n",
    "    model=model,\n",
    "    args=training_args,\n",
    "    train_dataset=train_dataset,\n",
    "    eval_dataset=test_dataset,\n",
    "    compute_metrics=compute_metrics\n",
    ")\n",
    "\n",
    "print(\"Trainer initialized successfully\")\n",
    "print(\"Training configuration:\")\n",
    "print(f\"- Epochs: {training_args.num_train_epochs}\")\n",
    "print(f\"- Batch size: {training_args.per_device_train_batch_size}\")\n",
    "print(f\"- Learning rate: {training_args.learning_rate}\")\n"
   ]
  },
  {
   "cell_type": "markdown",
   "metadata": {},
   "source": [
    "# Train the model\n"
   ]
  },
  {
   "cell_type": "code",
   "execution_count": 14,
   "metadata": {},
   "outputs": [
    {
     "name": "stdout",
     "output_type": "stream",
     "text": [
      "Evaluating model on test set...\n"
     ]
    },
    {
     "data": {
      "text/html": [],
      "text/plain": [
       "<IPython.core.display.HTML object>"
      ]
     },
     "metadata": {},
     "output_type": "display_data"
    },
    {
     "name": "stdout",
     "output_type": "stream",
     "text": [
      "\n",
      "Evaluation Results:\n",
      "========================================\n",
      "eval_loss: 0.6907\n",
      "eval_model_preparation_time: 0.0016\n",
      "eval_accuracy: 0.5090\n",
      "eval_precision: 0.5220\n",
      "eval_recall: 0.5090\n",
      "eval_f1: 0.3952\n",
      "eval_runtime: 81.1649\n",
      "eval_samples_per_second: 12.3210\n",
      "eval_steps_per_second: 0.7760\n",
      "\n",
      "Generating predictions for detailed analysis...\n",
      "\n",
      "Detailed Classification Results:\n",
      "==================================================\n",
      "Overall Accuracy: 0.5090\n",
      "Weighted Precision: 0.5220\n",
      "Weighted Recall: 0.5090\n",
      "Weighted F1-Score: 0.3952\n",
      "\n",
      "Per-Class Results:\n",
      "Negative:\n",
      "  Precision: 0.5373\n",
      "  Recall: 0.0726\n",
      "  F1-Score: 0.1279\n",
      "  Support: 496\n",
      "Positive:\n",
      "  Precision: 0.5070\n",
      "  Recall: 0.9385\n",
      "  F1-Score: 0.6583\n",
      "  Support: 504\n"
     ]
    }
   ],
   "source": [
    "# Evaluate the model\n",
    "print(\"Evaluating model on test set...\")\n",
    "eval_results = trainer.evaluate()\n",
    "\n",
    "print(\"\\nEvaluation Results:\")\n",
    "print(\"=\" * 40)\n",
    "for key, value in eval_results.items():\n",
    "    if isinstance(value, float):\n",
    "        print(f\"{key}: {value:.4f}\")\n",
    "    else:\n",
    "        print(f\"{key}: {value}\")\n",
    "\n",
    "# Generate predictions for detailed analysis\n",
    "print(\"\\nGenerating predictions for detailed analysis...\")\n",
    "predictions = trainer.predict(test_dataset)\n",
    "y_pred = np.argmax(predictions.predictions, axis=1)\n",
    "y_true = predictions.label_ids\n",
    "\n",
    "# Calculate detailed metrics\n",
    "accuracy = accuracy_score(y_true, y_pred)\n",
    "precision, recall, f1, support = precision_recall_fscore_support(y_true, y_pred, average=None)\n",
    "precision_avg, recall_avg, f1_avg, _ = precision_recall_fscore_support(y_true, y_pred, average='weighted')\n",
    "\n",
    "print(\"\\nDetailed Classification Results:\")\n",
    "print(\"=\" * 50)\n",
    "print(f\"Overall Accuracy: {accuracy:.4f}\")\n",
    "print(f\"Weighted Precision: {precision_avg:.4f}\")\n",
    "print(f\"Weighted Recall: {recall_avg:.4f}\")\n",
    "print(f\"Weighted F1-Score: {f1_avg:.4f}\")\n",
    "\n",
    "print(\"\\nPer-Class Results:\")\n",
    "class_names = ['Negative', 'Positive']\n",
    "for i, class_name in enumerate(class_names):\n",
    "    print(f\"{class_name}:\")\n",
    "    print(f\"  Precision: {precision[i]:.4f}\")\n",
    "    print(f\"  Recall: {recall[i]:.4f}\")\n",
    "    print(f\"  F1-Score: {f1[i]:.4f}\")\n",
    "    print(f\"  Support: {support[i]}\")\n"
   ]
  },
  {
   "cell_type": "code",
   "execution_count": 15,
   "metadata": {},
   "outputs": [
    {
     "data": {
      "image/png": "[encoded data removed]",
      "text/plain": [
       "<Figure size 800x600 with 2 Axes>"
      ]
     },
     "metadata": {},
     "output_type": "display_data"
    },
    {
     "name": "stdout",
     "output_type": "stream",
     "text": [
      "\n",
      "Confusion Matrix (Percentages):\n",
      "True\\Predicted  Negative  Positive\n",
      "Negative         7.3%     92.7%\n",
      "Positive         6.2%     93.8%\n"
     ]
    }
   ],
   "source": [
    "# Create confusion matrix visualization\n",
    "cm = confusion_matrix(y_true, y_pred)\n",
    "\n",
    "plt.figure(figsize=(8, 6))\n",
    "sns.heatmap(cm, annot=True, fmt='d', cmap='Blues', \n",
    "            xticklabels=class_names, yticklabels=class_names)\n",
    "plt.title('Confusion Matrix - BERT Sentiment Analysis')\n",
    "plt.xlabel('Predicted Label')\n",
    "plt.ylabel('True Label')\n",
    "plt.tight_layout()\n",
    "plt.show()\n",
    "\n",
    "# Calculate confusion matrix percentages\n",
    "cm_percent = cm.astype('float') / cm.sum(axis=1)[:, np.newaxis] * 100\n",
    "print(\"\\nConfusion Matrix (Percentages):\")\n",
    "print(\"True\\\\Predicted  Negative  Positive\")\n",
    "for i, class_name in enumerate(class_names):\n",
    "    print(f\"{class_name:8}      {cm_percent[i][0]:6.1f}%   {cm_percent[i][1]:6.1f}%\")\n"
   ]
  },
  {
   "cell_type": "code",
   "execution_count": 16,
   "metadata": {},
   "outputs": [
    {
     "name": "stdout",
     "output_type": "stream",
     "text": [
      "Sentiment Predictions on Sample Reviews:\n",
      "============================================================\n",
      "\n",
      "1. Review: This movie was absolutely fantastic! The acting was superb and the plot was enga...\n",
      "   Predicted Sentiment: Positive\n",
      "   Confidence: 0.5732\n",
      "\n",
      "2. Review: I was completely disappointed with this film. The story was boring and the chara...\n",
      "   Predicted Sentiment: Positive\n",
      "   Confidence: 0.5647\n",
      "\n",
      "3. Review: An average movie with some good moments but nothing spectacular. Worth watching ...\n",
      "   Predicted Sentiment: Positive\n",
      "   Confidence: 0.5537\n",
      "\n",
      "4. Review: Outstanding cinematography and brilliant performances make this a must-watch fil...\n",
      "   Predicted Sentiment: Positive\n",
      "   Confidence: 0.5037\n",
      "\n",
      "5. Review: Terrible acting and a confusing plot made this movie unwatchable....\n",
      "   Predicted Sentiment: Positive\n",
      "   Confidence: 0.5413\n"
     ]
    }
   ],
   "source": [
    "# Function to predict sentiment for new reviews\n",
    "def predict_sentiment(text, model, tokenizer, device, max_length=256):\n",
    "    model.eval()\n",
    "    \n",
    "    # Tokenize the input text\n",
    "    encoding = tokenizer(\n",
    "        text,\n",
    "        truncation=True,\n",
    "        padding='max_length',\n",
    "        max_length=max_length,\n",
    "        return_tensors='pt'\n",
    "    )\n",
    "    \n",
    "    # Move to device\n",
    "    input_ids = encoding['input_ids'].to(device)\n",
    "    attention_mask = encoding['attention_mask'].to(device)\n",
    "    \n",
    "    # Make prediction\n",
    "    with torch.no_grad():\n",
    "        outputs = model(input_ids=input_ids, attention_mask=attention_mask)\n",
    "        predictions = torch.nn.functional.softmax(outputs.logits, dim=-1)\n",
    "        predicted_class = torch.argmax(predictions, dim=-1).item()\n",
    "        confidence = predictions[0][predicted_class].item()\n",
    "    \n",
    "    sentiment = 'Positive' if predicted_class == 1 else 'Negative'\n",
    "    return sentiment, confidence\n",
    "\n",
    "# Sample reviews for testing\n",
    "sample_reviews = [\n",
    "    \"This movie was absolutely fantastic! The acting was superb and the plot was engaging throughout.\",\n",
    "    \"I was completely disappointed with this film. The story was boring and the characters were poorly developed.\",\n",
    "    \"An average movie with some good moments but nothing spectacular. Worth watching once.\",\n",
    "    \"Outstanding cinematography and brilliant performances make this a must-watch film.\",\n",
    "    \"Terrible acting and a confusing plot made this movie unwatchable.\"\n",
    "]\n",
    "\n",
    "print(\"Sentiment Predictions on Sample Reviews:\")\n",
    "print(\"=\" * 60)\n",
    "\n",
    "for i, review in enumerate(sample_reviews, 1):\n",
    "    sentiment, confidence = predict_sentiment(review, model, tokenizer, device)\n",
    "    print(f\"\\n{i}. Review: {review[:80]}...\")\n",
    "    print(f\"   Predicted Sentiment: {sentiment}\")\n",
    "    print(f\"   Confidence: {confidence:.4f}\")\n"
   ]
  },
  {
   "cell_type": "code",
   "execution_count": 18,
   "metadata": {},
   "outputs": [
    {
     "name": "stdout",
     "output_type": "stream",
     "text": [
      "BERT Sentiment Analysis - Final Summary\n",
      "==================================================\n",
      "Dataset: IMDB Movie Reviews (5,000 samples)\n",
      "Model: BERT-base-uncased\n",
      "Training samples: 4,000\n",
      "Test samples: 1,000\n",
      "\n",
      "Final Model Performance:\n",
      "Accuracy: 0.5090\n",
      "Precision: 0.5220\n",
      "Recall: 0.5090\n",
      "F1-Score: 0.3952\n"
     ]
    }
   ],
   "source": [
    "# Final summary statistics\n",
    "print(\"BERT Sentiment Analysis - Final Summary\")\n",
    "print(\"=\" * 50)\n",
    "print(f\"Dataset: IMDB Movie Reviews ({SAMPLE_SIZE:,} samples)\")\n",
    "print(f\"Model: BERT-base-uncased\")\n",
    "print(f\"Training samples: {len(train_texts):,}\")\n",
    "print(f\"Test samples: {len(test_texts):,}\")\n",
    "print(f\"\\nFinal Model Performance:\")\n",
    "print(f\"Accuracy: {accuracy:.4f}\")\n",
    "print(f\"Precision: {precision_avg:.4f}\")\n",
    "print(f\"Recall: {recall_avg:.4f}\")\n",
    "print(f\"F1-Score: {f1_avg:.4f}\")\n",
    "\n"
   ]
  }
 ],
 "metadata": {
  "kernelspec": {
   "display_name": "Python 3 (ipykernel)",
   "language": "python",
   "name": "python3"
  },
  "language_info": {
   "codemirror_mode": {
    "name": "ipython",
    "version": 3
   },
   "file_extension": ".py",
   "mimetype": "text/x-python",
   "name": "python",
   "nbconvert_exporter": "python",
   "pygments_lexer": "ipython3",
   "version": "3.13.7"
  }
 },
 "nbformat": 4,
 "nbformat_minor": 4
}
